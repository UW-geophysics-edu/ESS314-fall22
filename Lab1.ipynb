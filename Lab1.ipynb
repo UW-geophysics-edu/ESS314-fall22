{
 "cells": [
  {
   "cell_type": "markdown",
   "metadata": {
    "id": "s3iu_wRpS8xc"
   },
   "source": [
    "\n",
    "# **ESS 314: Lab 1**\n",
    "\n",
    "This is the first lab of ESS 314. The lab was designed by Ken Creager, Harold Tobin, Anna Ledeczi, Marine Denolle and was modified by Barrett Johnson (bnjo@uw.edu)\n"
   ]
  },
  {
   "cell_type": "markdown",
   "metadata": {
    "id": "Eds_9NmfSziJ"
   },
   "source": [
    "## **Lab 1A: Setting up Your Workspace**\n",
    "\n",
    "\n",
    "This lab focuses on helping students set up their workspace so that they can access the relevant\n",
    "software packages necessary for future lab work. *You do not need to turn anything in for portion 1A of the lab.*\n",
    "\n",
    "\n",
    "\n",
    " ### **Computer Resources**\n",
    "\n",
    "1. ***UW-JupyterHub***\n",
    "\n",
    "UW-IT set up a jupyterhub for our course. You can start one with the following link in your browser:\n",
    "\n",
    "https://jupyter.rttl.uw.edu/2022-autumn-ess-314-a\n",
    "\n",
    "You will need UW ID credentials to get started. You can log in from the ESS Lab computers and from your laptop.\n",
    "\n",
    "You will be prompted to a Jupyter Notebook in Python. We thrive to use open-source python codes that should be available through our python environment or easy to install using simple commands.\n",
    "\n",
    "\n",
    "\n",
    "**Now, we will go through an example on how to get the hub ready**.\n",
    "\n",
    "* Log in to the server\n",
    "* To add files, you can click the upload button on the top and upload individual files and folters.\n",
    "* To add the git repos with the scripts and lab notebook, open a terminal window and type ``git clone \"https://github.com/UW-geophysics-edu/ESS314-fall22.git\"``. The entire updated github repository will be transfered to your environments.\n",
    "* The files that you add to the environment will be saved and left as is for future times.\n",
    "* To update the github repository. Open a terminal, move into the directory using the command ``cd ~/ESS314-fall22``, and type ``git pull``. This will update your directory with the updated version of the remote class github.\n",
    "\n",
    "\n",
    "2. ***Google Colab***\n",
    "\n",
    "Google Colab is a free python notebook environment. It comes in with a built-in python environment. Once you open a notebook in Colab, click ``Connect`` on the top right, select ``Connect to a hosted runtime`` to launch your instance on the free Google Cloud Platform.\n",
    "\n",
    "To add packages, just use the following command everytime you log in, for instance:\n",
    "\n",
    "``!pip install mypackage``\n",
    "\n",
    "\n",
    "\n",
    "3. ***Your own Local Python***\n",
    "\n",
    "We created an conda environment in the class Github Page: https://github.com/UW-geophysics-edu/ess314-2021-image.\n",
    "Similar to the hub, open a terminal window. Move to the directory of choice and type:\n",
    "\n",
    "*  ``git clone \"https://github.com/UW-geophysics-edu/ESS314-fall22.git\"``.\n",
    " \n",
    "* Move into the directory: ``cd ESS314-fall22``\n",
    "* Create the conda environment: ``conda env create -f environment.yml``\n",
    "* start the conda environment: ``conda activate ess314``\n",
    "\n",
    "Now you are ready to do some pythoning!\n",
    "\n"
   ]
  },
  {
   "cell_type": "markdown",
   "metadata": {
    "id": "vh4X66FzoBMh"
   },
   "source": [
    "### **Getting Familiar with Shell scripting**\n",
    "\n",
    "Shell scripting allows you to navigate through your computer directories, files, and perform basic manipulation of text files. It can also allows you to run big simulations on large computers. It is extremely flexible!\n",
    "\n",
    "Start by opening a **Terminal** window. The basic commands you will need are:\n",
    "\n",
    "* ``pwd`` to see what directory you are in.\n",
    "* ``cd FOLDER`` to move to another directory\n",
    "* ``cd ../OTHER_FOLDER`` to move to another directory that is ahead of your current directory. This provides a *relative* path.\n",
    "* ``cd /home/user/whatever/your/path/is`` is you know the *absolute* path of the directory you want to go to.\n",
    "* ``ls `` it will list all of the files in the current directory\n",
    "* ``ls ./*``, exact same as above\n",
    "* ``ls ../*``, will list the files in the directory ahead of your current directory\n",
    "* ``mkdir NEW_DIRECTORY`` wil create a new directory\n",
    "* ``cp file to_new_directory`` will copy ``file`` to another directory\n",
    "* ``cp -r this_directory to_this_directory``, will copy a folder and everything within it into another directory.\n",
    "\n",
    "\n",
    "We recommend to take the SoftwareCarpentry classes if you want to learn more. They have sometimes workshop through UW/eScience, or you can follow their lessons on Shell scripting here: \n",
    "https://swcarpentry.github.io/shell-novice/\n"
   ]
  },
  {
   "cell_type": "markdown",
   "metadata": {
    "id": "3QuW6Vtl0yHI"
   },
   "source": [
    "### **Getting Familiar with Git**\n",
    "\n",
    "\n",
    "Github is becoming a fundamental tool in STEM education and research. It allows you to keep track of code versions, without having to save a file per version. It also allows you to share your work, share your code, and work as a team very efficiently. \n",
    "\n",
    "Github has a web-platform: https://github.com/\n",
    "\n",
    "Our class Github is here: https://github.com/banjo13/ESS314-fall22.git\n",
    "\n",
    "\n",
    "Github toolbox is installed on the JupyterHub. You may already have it installed on your local machine (lapto/desktop), or you may have to install it. Follow the instructions here: https://github.com/git-guides/install-git\n",
    "\n",
    "A cheat sheet of commands is added on Canvas and on the github website. \n",
    "\n",
    "You can just download all courses labs and scripts through the Github website as the repository is public. If you wish to create your own repository for this class and upload your own codes:\n",
    "* create a Github account (I advise using your uwnet ID or an EASY identifier).\n",
    "* Follow guidelines from the cheat sheet to use command line to navigate through git.\n",
    "\n",
    "\n",
    "Further master your Git Skills by taking the basic lesson from the Software Carpentry: https://swcarpentry.github.io/git-novice/. "
   ]
  },
  {
   "cell_type": "markdown",
   "metadata": {
    "id": "HBb5NmMAVVTB"
   },
   "source": [
    "## **Lab 1B: Introduction to Python**\n",
    "\n",
    "Python is an increasingly common scientific tool which we will be utilizing in this course. Lab 1B focuses on gettnig acquainted with Python basics.\n",
    "\n",
    "*Questions/Items for submission are shown in italics. For all questions, show the command you used to arrive at the answer.*"
   ]
  },
  {
   "cell_type": "markdown",
   "metadata": {
    "id": "mrapRBHdv_GC"
   },
   "source": [
    "**Setting Variables**"
   ]
  },
  {
   "cell_type": "markdown",
   "metadata": {
    "id": "7OJqYXMAw6aO"
   },
   "source": [
    " \n",
    "2.   Many basic commands are available in Python, including arithmetic functions. For example, type 2+2 into a code cell and press SHIFT+ENTER."
   ]
  },
  {
   "cell_type": "code",
   "execution_count": null,
   "metadata": {
    "colab": {
     "base_uri": "https://localhost:8080/"
    },
    "id": "phT_aoQzwNkJ",
    "outputId": "993f4bb8-e06a-4685-d3bb-0f49d268ea48"
   },
   "outputs": [],
   "source": [
    "2+2"
   ]
  },
  {
   "cell_type": "markdown",
   "metadata": {
    "id": "uQaUmjmrx2IE"
   },
   "source": [
    "3. Arithmetic operators are + for addition, - for subtraction, * for multiplication, and / for division. Raising a value to a power is accomplished by using ** (e.g. 3**2)."
   ]
  },
  {
   "cell_type": "markdown",
   "metadata": {
    "id": "AykQtz0RyGIM"
   },
   "source": [
    "4. Type a=2 into the next cell. This will assign the value 2 to the variable a, which will hold this value until it is reassigned. To reassign a, type a=3 in the next cell."
   ]
  },
  {
   "cell_type": "code",
   "execution_count": null,
   "metadata": {
    "id": "7iWOCVWAwP7O"
   },
   "outputs": [],
   "source": [
    "a = 2 # Make sure to add comments to your code as you go to ensure clarity"
   ]
  },
  {
   "cell_type": "code",
   "execution_count": null,
   "metadata": {
    "id": "f_Fgzb4OwRgg"
   },
   "outputs": [],
   "source": [
    "a = 3 # Here you could remark on what the variable a represents in your code"
   ]
  },
  {
   "cell_type": "markdown",
   "metadata": {
    "id": "_EbXyR2_ya7J"
   },
   "source": [
    "5. Assign a value to b. Now type c = a+b and Python will calculate the value of c. Note that Python will not print out the result of c automatically unless it is told to do so. To see the value of c, type print(c). "
   ]
  },
  {
   "cell_type": "code",
   "execution_count": null,
   "metadata": {
    "colab": {
     "base_uri": "https://localhost:8080/"
    },
    "id": "J-RfeqiHwTXb",
    "outputId": "48f5dbff-31ce-4407-bb42-3acb8a011cd0"
   },
   "outputs": [],
   "source": [
    "b = 4\n",
    "c = a + b\n",
    "print(c)"
   ]
  },
  {
   "cell_type": "markdown",
   "metadata": {
    "id": "8PGTOjSdzBPL"
   },
   "source": [
    "6. There are several kinds of variables in Python. Numbers can be integers, like a, whole numbers without a decimal point. Numbers designated as float have a decimal value. For computational purposes, float numbers are more useful. Python also allows the designation of text, or 'strings' as variables. Type d = 7.2 and e = 'hello!' to utilize float and string variables."
   ]
  },
  {
   "cell_type": "code",
   "execution_count": null,
   "metadata": {
    "id": "nscC4qLQwdh4"
   },
   "outputs": [],
   "source": [
    "d = 7.2\n",
    "e = 'hello!'"
   ]
  },
  {
   "cell_type": "markdown",
   "metadata": {
    "id": "kqX093s90UTO"
   },
   "source": [
    "7. To see all variables, their type, and their value, use the command %whos. Deleting a single variable can be accomplished using the command del following by the desired variable (e.g., del a). To delete all defined variables, use %reset. Check if the deletions were successful using %whos."
   ]
  },
  {
   "cell_type": "code",
   "execution_count": null,
   "metadata": {
    "colab": {
     "base_uri": "https://localhost:8080/"
    },
    "id": "XP40ACd1wrmw",
    "outputId": "d0db6b3a-783c-47ad-bb1c-12723175fb5c"
   },
   "outputs": [],
   "source": [
    "del a \n",
    "%whos"
   ]
  },
  {
   "cell_type": "markdown",
   "metadata": {
    "id": "RuVf09Cj1gkD"
   },
   "source": [
    "8. It is important to note that variables in Python can consist of numbers, upper and lowercase letters, and underscores. A variable name cannot start with a number. Variable names are generally more useful when they are more descriptive (e.g., gravity_anomaly rather than ga). "
   ]
  },
  {
   "cell_type": "markdown",
   "metadata": {
    "id": "cIsn4c__1ZqA"
   },
   "source": [
    "### **Question 1:**\n",
    "\n",
    "\n",
    "\n",
    "> ***a.*** What command would be used to clear just the b variable?*\n",
    "\n",
    "\n",
    "\n"
   ]
  },
  {
   "cell_type": "markdown",
   "metadata": {
    "id": "HQ8ujqVaqdz7"
   },
   "source": [
    "answer below:\n"
   ]
  },
  {
   "cell_type": "markdown",
   "metadata": {
    "id": "ykKOVC4BqgBu"
   },
   "source": [
    "\n",
    "> ***b.*** What command would be used to clear all variables?*\n"
   ]
  },
  {
   "cell_type": "markdown",
   "metadata": {
    "id": "rzMrLJKGqk5v"
   },
   "source": [
    "answer below:\n"
   ]
  },
  {
   "cell_type": "markdown",
   "metadata": {
    "id": "xsO0ToInqmRv"
   },
   "source": [
    "\n",
    "> ***c.*** Which of the following are valid variable names?*\n",
    "* *_n*\n",
    "* *n6*\n",
    "* *n_*\n",
    "* *6n*\n",
    "* *nnnnnnnnnnnnnnnnnnnnn*\n"
   ]
  },
  {
   "cell_type": "markdown",
   "metadata": {
    "id": "s8evhTwNqqxM"
   },
   "source": [
    "answer below:\n"
   ]
  },
  {
   "cell_type": "markdown",
   "metadata": {
    "id": "MAR9vX9_qr8F"
   },
   "source": [
    "> ***d.*** *What error message appears when you try to use an invalid variable name?*"
   ]
  },
  {
   "cell_type": "markdown",
   "metadata": {
    "id": "Wwv6C0euqubg"
   },
   "source": [
    "answer below:"
   ]
  },
  {
   "cell_type": "markdown",
   "metadata": {
    "id": "-ZSLNN2h3Mhd"
   },
   "source": [
    "**Basic Commands and NumPy**\n",
    "\n"
   ]
  },
  {
   "cell_type": "markdown",
   "metadata": {
    "id": "uNeHDtu93Urm"
   },
   "source": [
    "\n",
    "\n",
    "1.   In order to perform more advanced calculations, certain Python packages must be imported. For example, numerical python is a key package. To import this, use the command \n",
    "\n",
    "\n",
    "\n",
    "\n"
   ]
  },
  {
   "cell_type": "code",
   "execution_count": null,
   "metadata": {
    "id": "lLOD2oHM00jR"
   },
   "outputs": [],
   "source": [
    "import numpy as np"
   ]
  },
  {
   "cell_type": "markdown",
   "metadata": {
    "id": "yHQ2EtqO1GFd"
   },
   "source": [
    "2. To use numpy, commands must begin with np. For example, type np.pi and you will see the result printed to the screen. To round this number to a certain number of decimal places, assign the result to a variable, then use the function round, for example:\n"
   ]
  },
  {
   "cell_type": "code",
   "execution_count": null,
   "metadata": {
    "colab": {
     "base_uri": "https://localhost:8080/"
    },
    "id": "T3Fxxmbd1JE4",
    "outputId": "96aa5766-0f23-4351-bc56-fd3701de61ac"
   },
   "outputs": [],
   "source": [
    "pi = np.pi\n",
    "round(pi, 2)"
   ]
  },
  {
   "cell_type": "markdown",
   "metadata": {
    "id": "05gLzG876W8U"
   },
   "source": [
    "3. In numpy, log(x) calculates the natural log of a number. log10(x) will return the log base 10 and log2(x) will return the log base 2. \n"
   ]
  },
  {
   "cell_type": "code",
   "execution_count": null,
   "metadata": {
    "colab": {
     "base_uri": "https://localhost:8080/"
    },
    "id": "Wm_KPly5ad90",
    "outputId": "f6c1b3c7-db46-49de-bbfc-9d097dfdbde6"
   },
   "outputs": [],
   "source": [
    "np.log10(10)"
   ]
  },
  {
   "cell_type": "markdown",
   "metadata": {
    "id": "S8BsnlP5aeIO"
   },
   "source": [
    "\n",
    "4. The command np.sqrt() can be used to calculate the square root of positive numbers.\n"
   ]
  },
  {
   "cell_type": "code",
   "execution_count": null,
   "metadata": {
    "colab": {
     "base_uri": "https://localhost:8080/"
    },
    "id": "iKBPQfXsafqb",
    "outputId": "4b589236-62d1-4ec2-db27-3fe51edc14cc"
   },
   "outputs": [],
   "source": [
    "np.sqrt(3)"
   ]
  },
  {
   "cell_type": "markdown",
   "metadata": {
    "id": "MzOKRTDpaf-s"
   },
   "source": [
    "\n",
    "5. Trigonometric functions in NumPy take angles in radians, so make sure your input angles are not in degrees. You can also use the built-in NumPy conversion between degrees and radians."
   ]
  },
  {
   "cell_type": "code",
   "execution_count": null,
   "metadata": {
    "colab": {
     "base_uri": "https://localhost:8080/"
    },
    "id": "gXf_zX9hxSaB",
    "outputId": "918fac52-b79c-4d8e-f50b-23914e96a146"
   },
   "outputs": [],
   "source": [
    "print(np.sin(np.pi/2))\n",
    "print(np.sin(np.deg2rad(90))) # You can also use np.rad2deg() for other calculations"
   ]
  },
  {
   "cell_type": "markdown",
   "metadata": {
    "id": "Gcjex5HpzD9f"
   },
   "source": [
    "6. Inverse trigonometric functions can be calculated using np.arcsin(), np.arccos(), and np.arctan()."
   ]
  },
  {
   "cell_type": "code",
   "execution_count": null,
   "metadata": {
    "colab": {
     "base_uri": "https://localhost:8080/"
    },
    "id": "oD2w9svEax9H",
    "outputId": "a9724add-43b7-43b2-b24f-b007a0677cc1"
   },
   "outputs": [],
   "source": [
    "print(np.arcsin(np.sin(np.pi/3)))\n",
    "print(np.pi/3)"
   ]
  },
  {
   "cell_type": "markdown",
   "metadata": {
    "id": "fU8WEGBq698H"
   },
   "source": [
    "### **Question 2:**\n",
    "\n",
    "> ***a.*** *What is the command to return the value of e (Euler’s number)?*\n"
   ]
  },
  {
   "cell_type": "code",
   "execution_count": null,
   "metadata": {
    "id": "IqTkZWzlbRzp"
   },
   "outputs": [],
   "source": [
    "# answer below"
   ]
  },
  {
   "cell_type": "markdown",
   "metadata": {
    "id": "j5T3TeZfbT9R"
   },
   "source": [
    "> ***b.*** *What is the sin of 270 degrees?*"
   ]
  },
  {
   "cell_type": "code",
   "execution_count": null,
   "metadata": {
    "id": "x6VuZxzhbV-J"
   },
   "outputs": [],
   "source": [
    "# answer below"
   ]
  },
  {
   "cell_type": "markdown",
   "metadata": {
    "id": "XMAssY4DbXO0"
   },
   "source": [
    "> ***c.*** *What is arccos(0.5) in degrees?*"
   ]
  },
  {
   "cell_type": "code",
   "execution_count": null,
   "metadata": {
    "id": "AiJZOTCzbZO8"
   },
   "outputs": [],
   "source": [
    "#answer below"
   ]
  },
  {
   "cell_type": "markdown",
   "metadata": {
    "id": "p_BIO5XQbaea"
   },
   "source": [
    "> ***d.*** *What is arccos(0.5) in radians?*"
   ]
  },
  {
   "cell_type": "code",
   "execution_count": null,
   "metadata": {
    "id": "XrAqWIzhbcDf"
   },
   "outputs": [],
   "source": [
    "# answer below"
   ]
  },
  {
   "cell_type": "markdown",
   "metadata": {
    "id": "E_xrFhN0qow-"
   },
   "source": [
    "**Vectors and Matrices**\n",
    "\n",
    "NumPy can be utilized to create \"arrays,\" which function as vectors or matrices. The size of a matrix with r rows and c columns is 𝑟 × 𝑐. Think of a row vector as a matrix with 𝑟 = 1, and a column vector as a matrix with 𝑐 = 1.\n",
    "\n",
    "\n",
    "\n",
    "1.   Use the command np.array() to create row and column vectors as follows:\n"
   ]
  },
  {
   "cell_type": "code",
   "execution_count": null,
   "metadata": {
    "colab": {
     "base_uri": "https://localhost:8080/"
    },
    "id": "2yr-0FFSznKH",
    "outputId": "49d45dfc-2854-4c77-c6b2-0bb800c43d38"
   },
   "outputs": [],
   "source": [
    "row_vector = np.array([[1, 2, 3]])\n",
    "print(row_vector)\n",
    "\n",
    "col_vector = np.array([[1], [2], [3]])\n",
    "print(col_vector)\n",
    "\n",
    "# You can check that these vectors are indeed the dimensions you seek by using the following command:\n",
    "\n",
    "print(row_vector.shape) # Should be (1, 3) for (r, c)\n",
    "print(col_vector.shape) # Should be (3, 1) for (r, c)\n"
   ]
  },
  {
   "cell_type": "markdown",
   "metadata": {
    "id": "HUZFU-PU0q4D"
   },
   "source": [
    "2. Selecting specific values in a vector or matrix is known as indexing. Start by creating a 3 x 4 matrix as follows."
   ]
  },
  {
   "cell_type": "code",
   "execution_count": null,
   "metadata": {
    "colab": {
     "base_uri": "https://localhost:8080/"
    },
    "id": "cXSXVtWV0wzM",
    "outputId": "ef31d8c4-237a-4034-8dbc-b7ed662ba004"
   },
   "outputs": [],
   "source": [
    "matrix = np.array([[1, 2, 3, 4], [5, 6, 7, 8], [9, 10, 11, 12]])\n",
    "print(matrix)"
   ]
  },
  {
   "cell_type": "markdown",
   "metadata": {
    "id": "8UusThFZ1EAu"
   },
   "source": [
    "To select elements within the matrix, specify their location within the rows and columns, making sure to begin counting at 0. If you are used to MATLAB, it is important to remember that Python indexing starts at 0, not 1. Here are some examples of indexing:"
   ]
  },
  {
   "cell_type": "code",
   "execution_count": null,
   "metadata": {
    "colab": {
     "base_uri": "https://localhost:8080/"
    },
    "id": "I8HWL4DD0_E5",
    "outputId": "93f55769-3f2c-4d80-c9c6-3826ec39e390"
   },
   "outputs": [],
   "source": [
    "print(matrix[1,2]) # The number 7\n",
    "print(matrix[2,0]) # The number 9\n",
    "print(matrix[0, :]) # The first row\n",
    "column1 = matrix[:, 0] # The first column - but note it only has one dimension\n",
    "print(column1)\n",
    "column1.shape # but note it only has one dimension and is not technically a 'row' or 'column'\n",
    "\n",
    "matrixT = np.transpose(matrix) # Transpose a matrix using this command\n",
    "print(matrixT)\n"
   ]
  },
  {
   "cell_type": "markdown",
   "metadata": {
    "id": "QtdzVeAE4Gia"
   },
   "source": [
    "3. There are other ways to create more specialized kinds of arrays, such as those made out of zeroes, ones, or a linearly spaced array."
   ]
  },
  {
   "cell_type": "code",
   "execution_count": null,
   "metadata": {
    "colab": {
     "base_uri": "https://localhost:8080/"
    },
    "id": "W9QoCrSE1fUS",
    "outputId": "2fbc5961-4f31-46bb-d7be-d262abae944a"
   },
   "outputs": [],
   "source": [
    "print(np.zeros([3,1]))\n",
    "\n",
    "print(np.ones([4,1]))\n",
    "\n",
    "print(np.linspace(0,10,5)) # Specify start, stop, and the number of elements for a linearly spaced array\n",
    "\n",
    "print(np.arange(0, 10, 2)) # Specify start, stop, and spacing\n",
    "\n",
    "\n",
    "\n",
    "# Note the difference between the following: \n",
    "\n",
    "print(np.linspace(0,10,10))\n",
    "print(np.linspace(0,10,11))"
   ]
  },
  {
   "cell_type": "markdown",
   "metadata": {
    "id": "RkXjNvK-5ngd"
   },
   "source": [
    "4. You can concatenate or truncate vectors once they are created. The two arrays must have the same shape, except in the direction of the axis. "
   ]
  },
  {
   "cell_type": "code",
   "execution_count": null,
   "metadata": {
    "colab": {
     "base_uri": "https://localhost:8080/"
    },
    "id": "nOUQVnkL4glx",
    "outputId": "086d4d2e-e073-4ec9-ddb9-8daf1021caf1"
   },
   "outputs": [],
   "source": [
    "g = np.ones([4,3])\n",
    "print(g)\n",
    "\n",
    "h = np.zeros([2,3])\n",
    "print(h)\n",
    "\n",
    "i = np.concatenate((g,h)) # axis is assumed 0 unless specified \n",
    "print(i)\n",
    "\n",
    "\n",
    "j = np.ones([1,2])\n",
    "print(j)\n",
    "\n",
    "k = np.zeros([1, 3])\n",
    "print(k)\n",
    "\n",
    "l = np.concatenate((j, k), axis=1)\n",
    "print(l)\n",
    "\n",
    "m = np.concatenate((k, j), axis=1) # reverses the order from above\n",
    "print(m)"
   ]
  },
  {
   "cell_type": "code",
   "execution_count": null,
   "metadata": {
    "id": "t-zJqYl56xVc"
   },
   "outputs": [],
   "source": [
    "# Use these for Question 3\n",
    "\n",
    "v = np.array([[1, 2, 3]])\n",
    "w = np.array([[1], [2], [3]])\n"
   ]
  },
  {
   "cell_type": "markdown",
   "metadata": {
    "id": "K_hYsu6j8_zq"
   },
   "source": [
    "### **Question 3:**\n",
    "\n",
    "> ***a.*** *What is the difference between v and w?*\n",
    "\n"
   ]
  },
  {
   "cell_type": "markdown",
   "metadata": {
    "id": "tcYZ2S7ptaBf"
   },
   "source": [
    "answer here"
   ]
  },
  {
   "cell_type": "markdown",
   "metadata": {
    "id": "870vNDbStbP0"
   },
   "source": [
    "\n",
    "> ***b.*** *Explain the function of np.transpose().*\n"
   ]
  },
  {
   "cell_type": "markdown",
   "metadata": {
    "id": "DkfeagvNtc6n"
   },
   "source": [
    "answer here"
   ]
  },
  {
   "cell_type": "markdown",
   "metadata": {
    "id": "_6Sqa18atfpc"
   },
   "source": [
    "> ***c.*** *Create a matrix with three columns, each of which is a copy of vector w*"
   ]
  },
  {
   "cell_type": "code",
   "execution_count": null,
   "metadata": {
    "id": "4opEzIWftxsI"
   },
   "outputs": [],
   "source": [
    "#answer below"
   ]
  },
  {
   "cell_type": "markdown",
   "metadata": {
    "id": "5mHMwC8_tizc"
   },
   "source": [
    "> ***d.*** *Select the entire third column of the matrix you just created?*"
   ]
  },
  {
   "cell_type": "code",
   "execution_count": null,
   "metadata": {
    "id": "MI05b3K0t7Am"
   },
   "outputs": [],
   "source": [
    "#answer below"
   ]
  },
  {
   "cell_type": "markdown",
   "metadata": {
    "id": "-1Mn7wUf6Z_o"
   },
   "source": [
    "**Operations with Vectors and Matrices**\n",
    "\n"
   ]
  },
  {
   "cell_type": "code",
   "execution_count": null,
   "metadata": {
    "id": "s2AFFYiy8ZUS"
   },
   "outputs": [],
   "source": [
    "v = np.array([[1, 2, 3]])\n",
    "w = np.array([[1], [2], [3]])\n",
    "p = ([[3, 4, 5, 6]])\n",
    "M = np.array([[1, 2, 3], [4, 5, 6], [7, 8, 9]])\n",
    "N = np.concatenate((v, v, v))"
   ]
  },
  {
   "cell_type": "markdown",
   "metadata": {
    "id": "3ctDjZvEY1xv"
   },
   "source": [
    "1. Adding a scalar to a vector or matrix is the same as adding two scalar values. Similarly,\n",
    "multiplying a vector or matrix by a scalar value looks just like multiplying two scalars.\n",
    "a. To add 2 to all elements of your vector v, type v+2.\n",
    "b. To multiply each element of matrix M by 3, type M*3."
   ]
  },
  {
   "cell_type": "code",
   "execution_count": null,
   "metadata": {
    "colab": {
     "base_uri": "https://localhost:8080/"
    },
    "id": "_VfcutaRYyRJ",
    "outputId": "3a0961f6-23dc-4911-e8b4-e2f508a8d3da"
   },
   "outputs": [],
   "source": [
    "print(v+2)\n",
    "print(M*3)"
   ]
  },
  {
   "cell_type": "markdown",
   "metadata": {
    "id": "-r9KqlgJZoic"
   },
   "source": [
    "2. Adding two matrices may work differently than you expect. Try adding v+N and p+N."
   ]
  },
  {
   "cell_type": "code",
   "execution_count": null,
   "metadata": {
    "colab": {
     "base_uri": "https://localhost:8080/"
    },
    "id": "hwXNNEamY8Xr",
    "outputId": "7676a703-9cab-4634-ff67-5ff9cad5c1a4"
   },
   "outputs": [],
   "source": [
    "v+N"
   ]
  },
  {
   "cell_type": "code",
   "execution_count": null,
   "metadata": {
    "colab": {
     "base_uri": "https://localhost:8080/",
     "height": 164
    },
    "id": "d8KgYjbfZgob",
    "outputId": "97f5a497-97d0-4dc2-ae1a-8c77372eed94"
   },
   "outputs": [],
   "source": [
    "p+N"
   ]
  },
  {
   "cell_type": "markdown",
   "metadata": {
    "id": "J26dQxJcZ2ay"
   },
   "source": [
    "3. To perform matrix multiplication, just multiply the two matrices by each other. Recall\n",
    "that to multiply two matrices together, the number of columns in the first must equal\n",
    "the number of rows in the second.\n",
    "a. Try multiplying vector v by vector w. Make sure and show that they have the complementary dimensions."
   ]
  },
  {
   "cell_type": "code",
   "execution_count": null,
   "metadata": {
    "colab": {
     "base_uri": "https://localhost:8080/"
    },
    "id": "JazWdY7hZlzT",
    "outputId": "e54557f0-e5f3-4ddf-c756-adde6b8da7f7"
   },
   "outputs": [],
   "source": [
    "print(v.shape)\n",
    "print(w.shape)\n",
    "v*w"
   ]
  },
  {
   "cell_type": "markdown",
   "metadata": {
    "id": "yMMTtfu-Z-Y7"
   },
   "source": [
    "4. For square matrices, you can also raise the matrix to a power using the same function as\n",
    "you did with scalar values. Square the matrix M using the command M**2, then review\n",
    "the output."
   ]
  },
  {
   "cell_type": "code",
   "execution_count": null,
   "metadata": {
    "colab": {
     "base_uri": "https://localhost:8080/"
    },
    "id": "wRMWS2LKZ4TY",
    "outputId": "0ff2146b-b90a-4c05-86c5-2c4a2c6cfd90"
   },
   "outputs": [],
   "source": [
    "M**2"
   ]
  },
  {
   "cell_type": "markdown",
   "metadata": {
    "id": "xylu7k0maHnS"
   },
   "source": [
    "5. Operations that apply to each element of the matrix individually are sometimes called array operations or element-wise operations. Many functions, such as trig functions, will operate on a matrix element-by-element. For example, try np.sin(N)."
   ]
  },
  {
   "cell_type": "code",
   "execution_count": null,
   "metadata": {
    "colab": {
     "base_uri": "https://localhost:8080/"
    },
    "id": "s7ioHsu0aAA6",
    "outputId": "1ed04c41-9929-40ac-8191-3057dbc46132"
   },
   "outputs": [],
   "source": [
    "np.sin(N)"
   ]
  },
  {
   "cell_type": "markdown",
   "metadata": {
    "id": "o0n9c1GIao4o"
   },
   "source": [
    "*Question 4:*\n",
    "\n",
    "\n",
    "\n",
    ">  ***a.*** *Why do you get an error message when you multiply v*v *but not when you multiply v*w?\n",
    "\n"
   ]
  },
  {
   "cell_type": "markdown",
   "metadata": {
    "id": "SLnya6I5MaQm"
   },
   "source": []
  },
  {
   "cell_type": "markdown",
   "metadata": {
    "id": "ekgAka6wMayh"
   },
   "source": [
    "> ***b.*** *What does Python do when you ask it to add v+M? What about p+M? Describe as best you can from your own experiments the logic that Python uses to add two matrices together. Include any relevant errors that might occur.*"
   ]
  },
  {
   "cell_type": "markdown",
   "metadata": {
    "id": "v21pOH8Gbbqx"
   },
   "source": [
    "**Plotting**\n",
    "\n",
    "\n",
    "\n",
    "1.   Plotting in Python requires importing another package, known as matplotlib. You can find tutorials and self-teach yourself about plotting in Python on the Matplotlib tutorial page: https://matplotlib.org/stable/tutorials/index.html\n",
    "\n"
   ]
  },
  {
   "cell_type": "code",
   "execution_count": null,
   "metadata": {
    "id": "P54mcCaIbdTs"
   },
   "outputs": [],
   "source": [
    "import matplotlib.pyplot as plt # You will have to run this import cell each time you open the notebook"
   ]
  },
  {
   "cell_type": "markdown",
   "metadata": {
    "id": "gtPwc_o3KS0I"
   },
   "source": [
    "2. Create a row vector x with the numbers 1 through 50. Then, use the sine function to vector y where each element is the sine of the corresponding value in x."
   ]
  },
  {
   "cell_type": "code",
   "execution_count": null,
   "metadata": {
    "id": "b0zSVjFTKbY8"
   },
   "outputs": [],
   "source": [
    "x = np.linspace(1,50,50)\n",
    "y = np.sin(x)"
   ]
  },
  {
   "cell_type": "markdown",
   "metadata": {
    "id": "nM_F0KXlL0tj"
   },
   "source": [
    "3. Create a simple plot using matplotlib."
   ]
  },
  {
   "cell_type": "code",
   "execution_count": null,
   "metadata": {
    "id": "6yQseom3MZPy"
   },
   "outputs": [],
   "source": [
    "fig = plt.plot(x,y, 'g:') # 'g:' defines the color (g) and the pattern (:) of the lines here. \n",
    "# You can search for color legends and more line patterns. - is a line, o is dots. \n",
    "plt.xlabel('x label')\n",
    "plt.ylabel('y label')\n",
    "plt.title(\"Example Plot 1\")\n",
    "plt.show()\n"
   ]
  },
  {
   "cell_type": "markdown",
   "metadata": {
    "id": "kxxDgtI9SjmW"
   },
   "source": [
    "4. Create a figure with 2 subplots."
   ]
  },
  {
   "cell_type": "code",
   "execution_count": null,
   "metadata": {
    "id": "NSJBr9BbKjU7"
   },
   "outputs": [],
   "source": [
    "z = np.cos(x)"
   ]
  },
  {
   "cell_type": "code",
   "execution_count": null,
   "metadata": {
    "colab": {
     "base_uri": "https://localhost:8080/",
     "height": 232
    },
    "id": "Z-HI1ZlvLzrc",
    "outputId": "4861d135-0f4e-4b6b-c210-809e835b02ef"
   },
   "outputs": [],
   "source": [
    "fig, ax = plt.subplots(2,1) # control how many rows and columns here\n",
    "ax[0].plot(x,y, 'r-', label='sin(x)')\n",
    "ax[0].set_title('Example Plot 2a')\n",
    "ax[0].set_xlabel('This is x (radians)')\n",
    "ax[0].set_ylabel('Sine of x')\n",
    "ax[0].legend()\n",
    "\n",
    "ax[1].plot(x, z, 'bo', label='cos(x)')\n",
    "ax[1].set_title('Example Plot 2b')\n",
    "ax[1].set_xlabel('This is x (radians)')\n",
    "ax[1].set_ylabel('Cosine of x')\n",
    "ax[1].legend()\n",
    "\n",
    "\n",
    "\n",
    "plt.tight_layout() # This will add space between your subplots (try commenting out this line!)\n",
    "plt.show()\n",
    "\n",
    "\n",
    "# Use the following command to save the image\n",
    "plt.savefig('example2.png')"
   ]
  },
  {
   "cell_type": "markdown",
   "metadata": {
    "id": "ltDWL7hgSm1h"
   },
   "source": [
    "5. Redefine x with twice as many points (i.e., define x as a row vector from 1 to 50, but include points at every half integer). Try to plot x and y again. What's wrong?"
   ]
  },
  {
   "cell_type": "code",
   "execution_count": null,
   "metadata": {
    "id": "o9Tfi7F3N1fG"
   },
   "outputs": [],
   "source": [
    "x = np.linspace(1,50,99)\n",
    "fig = plt.plot(x, y, 'b-')"
   ]
  },
  {
   "cell_type": "markdown",
   "metadata": {
    "id": "mOTW4yeLUiKK"
   },
   "source": [
    "### **Question 5:**\n",
    "\n",
    "> ***a.*** *Redefine y as appropriate. Keep iterating on the resolution of x and y until you're satisfied that the graph looks like a sine wave. Add a title and axis labels. Export the plot image as a png named fig5. Open it from a file management app (Finder on Mac, Explorer on Windows) so you can be aware of the idiosyncrasies of exporting an\n",
    "image. Include the fig5.png export file with your assignment submission when you turn in this lab on Canvas.*\n"
   ]
  },
  {
   "cell_type": "code",
   "execution_count": null,
   "metadata": {
    "id": "GQxfdxKfgY0H"
   },
   "outputs": [],
   "source": []
  },
  {
   "cell_type": "markdown",
   "metadata": {
    "id": "vWeTK7KsgZLy"
   },
   "source": [
    "> ***b.*** *Create a row vector from 0 – 100, counting by 5s (i.e. [0 5 10 15 20 … 100])?*\n"
   ]
  },
  {
   "cell_type": "code",
   "execution_count": null,
   "metadata": {
    "id": "IKgwH8TvEsBx"
   },
   "outputs": [],
   "source": []
  },
  {
   "cell_type": "markdown",
   "metadata": {
    "id": "kI1hV-wyEsZk"
   },
   "source": [
    "> ***c.*** *Plot x and y with maroon upward-facing triangles?*"
   ]
  },
  {
   "cell_type": "code",
   "execution_count": null,
   "metadata": {
    "id": "HEZrgk_VJhqw"
   },
   "outputs": [],
   "source": []
  },
  {
   "cell_type": "markdown",
   "metadata": {
    "id": "vQeFKx1zG03P"
   },
   "source": [
    "\n",
    "> ***d.*** *What was the command you used to define x for your last plot?*\n"
   ]
  },
  {
   "cell_type": "markdown",
   "metadata": {
    "id": "9UfQf1OuUWrk"
   },
   "source": [
    "### **Question 6:**\n",
    "\n",
    "\n",
    "> ***a***. *Plot two functions on the same plot. Define a new row vector x where the values range from 1 to 40.*\n",
    "\n"
   ]
  },
  {
   "cell_type": "code",
   "execution_count": null,
   "metadata": {
    "id": "KwdubgqsLG-T"
   },
   "outputs": [],
   "source": []
  },
  {
   "cell_type": "markdown",
   "metadata": {
    "id": "PRzgEP3wLHYC"
   },
   "source": [
    "> ***b.*** *Define a vector y that is equal to x^2 + 50cos(x + 4). Please express the cosine in radians.*\n",
    "\n",
    "\n"
   ]
  },
  {
   "cell_type": "code",
   "execution_count": null,
   "metadata": {
    "id": "POx3siCKLdot"
   },
   "outputs": [],
   "source": []
  },
  {
   "cell_type": "markdown",
   "metadata": {
    "id": "jx6Iih7gLdyK"
   },
   "source": [
    "> ***c.*** *Define a vector z that is equal to 1.5(tan(y)). Please express the tangent in radians.*\n"
   ]
  },
  {
   "cell_type": "code",
   "execution_count": null,
   "metadata": {
    "id": "q_ZqQYg8LmS0"
   },
   "outputs": [],
   "source": []
  },
  {
   "cell_type": "markdown",
   "metadata": {
    "id": "uB0hZkjILmct"
   },
   "source": [
    "> ***d.*** *Plot y vs. x and z vs. x on the same graph. First, open a figure. Plot the y function as a blue solid line, and the z function as a red dotted line.*"
   ]
  },
  {
   "cell_type": "code",
   "execution_count": null,
   "metadata": {
    "id": "KSaBion6Lp4i"
   },
   "outputs": [],
   "source": []
  },
  {
   "cell_type": "markdown",
   "metadata": {
    "id": "ZAFQOtkdLqB5"
   },
   "source": [
    "> ***e.*** *Add a title, and label the x and y axes ‘x’ and 'y(x) and z(y(x))’, respectively.*\n"
   ]
  },
  {
   "cell_type": "code",
   "execution_count": null,
   "metadata": {
    "id": "ZrttxIrJLsfD"
   },
   "outputs": [],
   "source": []
  },
  {
   "cell_type": "markdown",
   "metadata": {
    "id": "h0wk59cgLsof"
   },
   "source": [
    "> ***f.*** *Plot more than one function on the same graph.*"
   ]
  },
  {
   "cell_type": "code",
   "execution_count": null,
   "metadata": {
    "id": "WZ9y1sPDLuLv"
   },
   "outputs": [],
   "source": []
  },
  {
   "cell_type": "markdown",
   "metadata": {
    "id": "rQ8t-qGwLuVO"
   },
   "source": [
    "> ***g.*** *Save the plot image as a png named fig6. You'll need to include this file in your submission for this lab.*"
   ]
  },
  {
   "cell_type": "code",
   "execution_count": null,
   "metadata": {
    "id": "4TBLx2ctLue6"
   },
   "outputs": [],
   "source": []
  }
 ],
 "metadata": {
  "@webio": {
   "lastCommId": null,
   "lastKernelId": null
  },
  "colab": {
   "collapsed_sections": [],
   "name": "Lab1.ipynb",
   "provenance": []
  },
  "kernelspec": {
   "display_name": "Python 3 (ipykernel)",
   "language": "python",
   "name": "python3"
  },
  "language_info": {
   "codemirror_mode": {
    "name": "ipython",
    "version": 3
   },
   "file_extension": ".py",
   "mimetype": "text/x-python",
   "name": "python",
   "nbconvert_exporter": "python",
   "pygments_lexer": "ipython3",
   "version": "3.8.13"
  }
 },
 "nbformat": 4,
 "nbformat_minor": 1
}
