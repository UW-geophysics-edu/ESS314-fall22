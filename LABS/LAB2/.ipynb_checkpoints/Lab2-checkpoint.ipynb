{
 "cells": [
  {
   "cell_type": "markdown",
   "metadata": {
    "id": "ijijndtZnVEb"
   },
   "source": [
    "\n",
    "# **ESS 314: Lab 2**\n",
    "**Scripting in Python and Seismic Ray Tracing**\n",
    "\n",
    "\n",
    "This lab was designed by Ken Creager, Harold Tobin, Marine Denolle and Anna Ledeczi; Modified by Barrett Johnson (bnjo@uw.edu)\n"
   ]
  },
  {
   "cell_type": "markdown",
   "metadata": {
    "id": "Fv-exqHtrE25"
   },
   "source": [
    "# 1) **Writing Your Own Script/Program**\n",
    "\n",
    "A script or program is a series of commands executed in a row. It is much easier to write a script that can be run over and over again than to retype your code line by line. Any notebook can be treated as a script, and the cells can be run consecutively. \n",
    "\n",
    "In Python, we import specific modules that contain useful functions. This allows to not store everything in memory, but just pick and choose what we want.\n"
   ]
  },
  {
   "cell_type": "code",
   "execution_count": null,
   "metadata": {
    "id": "ejOGQmXYaXCW"
   },
   "outputs": [],
   "source": [
    "import numpy as np\n",
    "import matplotlib.pyplot as plt"
   ]
  },
  {
   "cell_type": "markdown",
   "metadata": {
    "id": "f4xMmxopaZRI"
   },
   "source": [
    "1. Start a script in which you define a 1x10 row vector x with equally spaced values between 1 and 10. "
   ]
  },
  {
   "cell_type": "code",
   "execution_count": null,
   "metadata": {
    "colab": {
     "base_uri": "https://localhost:8080/"
    },
    "id": "h9rZjlf0smPa",
    "outputId": "f81c36b6-bf7e-441c-ee6b-99e1fbbfe4d5"
   },
   "outputs": [],
   "source": [
    "x = np.linspace(1,10,10)\n",
    "print(x)\n",
    "print(x.shape)"
   ]
  },
  {
   "cell_type": "markdown",
   "metadata": {
    "id": "cugFYJ_o3itD"
   },
   "source": [
    "2. Calculate the sine and cosine of vector x."
   ]
  },
  {
   "cell_type": "code",
   "execution_count": null,
   "metadata": {
    "id": "49mdvVBC3yoA"
   },
   "outputs": [],
   "source": [
    "y = np.sin(x) # Remember to add comments :)\n",
    "z = np.cos(x)"
   ]
  },
  {
   "cell_type": "markdown",
   "metadata": {
    "id": "oVvDPFY4bGm6"
   },
   "source": [
    "3. Plot both functions and add a legend."
   ]
  },
  {
   "cell_type": "code",
   "execution_count": null,
   "metadata": {
    "colab": {
     "base_uri": "https://localhost:8080/",
     "height": 218
    },
    "id": "Vv5QvzYTbJfW",
    "outputId": "c34ec4f3-c24e-4444-b0e6-e21f91d44fc9"
   },
   "outputs": [],
   "source": [
    "plt.plot(x,y, 'g-', label='sin(x)')\n",
    "plt.plot(x,z, 'r-', label='cos(x)')\n",
    "plt.legend()\n",
    "plt.show()"
   ]
  },
  {
   "cell_type": "markdown",
   "metadata": {
    "id": "ydv9SVst5SH8"
   },
   "source": [
    "4. Increase the smoothess of your plots by increasing the number of elements in your ``x`` vector. You can accomplish this by changing one number in your script, and then rerunning it."
   ]
  },
  {
   "cell_type": "code",
   "execution_count": null,
   "metadata": {
    "id": "KaQuT6-M4Kxf"
   },
   "outputs": [],
   "source": [
    "x2 = np.linspace(1,10,50)\n",
    "y2 = np.sin(x2)\n",
    "z2 = np.cos(x2)"
   ]
  },
  {
   "cell_type": "code",
   "execution_count": null,
   "metadata": {
    "colab": {
     "base_uri": "https://localhost:8080/",
     "height": 297
    },
    "id": "yFw8QiMq5W4X",
    "outputId": "a2cb470b-07bf-4fa3-ba42-ba63b2af7f45"
   },
   "outputs": [],
   "source": [
    "# Let's make a quick plot to show the difference in the smoothness! \n",
    "fig, ax = plt.subplots(2,1)\n",
    "\n",
    "ax[0].plot(x,y, 'g-', label='sin(x)')\n",
    "ax[0].plot(x2,y2, 'r:', label='sin(x2)')\n",
    "ax[0].set_title('Sine with Differing Smoothness')\n",
    "ax[0].set_xlabel('x (radians)')\n",
    "ax[0].set_ylabel('Sine of x')\n",
    "ax[0].legend()\n",
    "\n",
    "ax[1].plot(x, z, 'g-', label='cos(x)')\n",
    "ax[1].plot(x2, z2, 'r:', label='cos(x2)')\n",
    "ax[1].set_xlabel('x (radians)')\n",
    "ax[1].set_ylabel('Cosine of x')\n",
    "ax[1].legend()\n",
    "\n",
    "plt.tight_layout() \n",
    "plt.show()\n"
   ]
  },
  {
   "cell_type": "markdown",
   "metadata": {
    "id": "rY9n2AK34bqD"
   },
   "source": [
    "## **For Loops**\n",
    "\n",
    "You can perform operations on every element of a vector or matrix at the same time, as demonstrated in Lab 1. However, sometimes you want to do something slightly different to each element, or you may just want to perform an operation multiple times. For loops enable this kind of programming. Although there are often (usually) better ways to do this kind of thing than a for loop, it's still important to understand how they work and be prepared to use them.\n",
    "\n",
    "Think about the command:\n",
    "\n",
    "```\n",
    "x1=x*4\n",
    "```\n",
    "\n",
    "\n",
    "Now, this command is absolutely how you want to go about multiplying every element of the vector x by the same scalar. But what if you wanted to multiply every element by its index? We will create a **for loop**.\n",
    "\n",
    "It is better practice in computing to allocate the memory the variables at the beginning of scripts. Many dynamic computing languages like Matlab, Python, Julia are flexible with on-the-fly allocations, but it slows down codes. When filling the values of the variable in  **for loop**, we have to declare the variable before calling it in the for oo.\n",
    "\n",
    "\n",
    "1. Pre-allocate variables"
   ]
  },
  {
   "cell_type": "code",
   "execution_count": null,
   "metadata": {
    "id": "3SAyIgeC5d50"
   },
   "outputs": [],
   "source": [
    "x = np.arange(1,51,1)\n",
    "x1 = np.zeros(50) # must define before loop\n"
   ]
  },
  {
   "cell_type": "markdown",
   "metadata": {
    "id": "CxbmzbIbiwHe"
   },
   "source": [
    "2. fill in ``x1`` values"
   ]
  },
  {
   "cell_type": "code",
   "execution_count": null,
   "metadata": {
    "colab": {
     "base_uri": "https://localhost:8080/"
    },
    "id": "4KqnJ7pciwRI",
    "outputId": "79ec93a6-5b26-4c84-ee56-b4f37fa6917f"
   },
   "outputs": [],
   "source": [
    "# first method\n",
    "for i in range(len(x)):\n",
    "  x1[i] = x[i]*(i+1) # Here we do i+1 because Python starts at 0\n",
    "  print(x1[i])\n",
    "\n",
    "print('hi')\n",
    "# second method\n",
    "for i,ii in enumerate(x): # Here i is the index and ii is the value of the ith index \n",
    "  x1[i] = (i+1)*ii\n",
    "  print(x1[i])\n"
   ]
  },
  {
   "cell_type": "markdown",
   "metadata": {
    "id": "GwnBii7YDEwP"
   },
   "source": [
    "In this script, the variable ``i`` is the index into the vector ``x``. For example, when ``i=0``, then ``x[i]`` is the first element of ``x`` (that's a Python thing it's ``i=1`` for Matlab and Julia). The **for loop** will perform the calculation starting when ``i=0``, then move on to ``i=1``, etc., until it gets to the final element of the vector. In **for loops**, indexing is important. The command ``x1[i]=x[i]*4`` occurs inside the **for loop**, and ``i`` has a different value for every pass through the loop.\n"
   ]
  },
  {
   "cell_type": "markdown",
   "metadata": {
    "id": "ttAYOov4udzL"
   },
   "source": [
    "4. Create a randomly sized matrix M with all of the elements equal to 1. Randomly determine the number of rows and columns in M using the randint() function:"
   ]
  },
  {
   "cell_type": "code",
   "execution_count": null,
   "metadata": {
    "colab": {
     "base_uri": "https://localhost:8080/"
    },
    "id": "yNIrUPoB_kYG",
    "outputId": "d20ba2c7-37bf-4441-aed7-ec070b1bd871"
   },
   "outputs": [],
   "source": [
    "# generate random integer values\n",
    "from numpy.random import seed, randint # you must import these separately \n",
    "# seed random number generator\n",
    "seed(1) # This ensures that each time you generate random numbers, \n",
    "# generate some integers\n",
    "values = randint(0, 10, 20)\n",
    "print(values)"
   ]
  },
  {
   "cell_type": "code",
   "execution_count": null,
   "metadata": {
    "colab": {
     "base_uri": "https://localhost:8080/"
    },
    "id": "cc4CenXcDvXy",
    "outputId": "cb0aa6b5-f760-49ad-8fbb-aeca519dd0f3"
   },
   "outputs": [],
   "source": [
    "# number of rows\n",
    "seed(42)\n",
    "nrows = randint(1,10,1)\n",
    "print(nrows)\n",
    "ncolumns = randint(1,10,1)\n",
    "print(ncolumns) "
   ]
  },
  {
   "cell_type": "markdown",
   "metadata": {
    "id": "ITG74ajuxbNf"
   },
   "source": [
    "This will randomly generate a number between 1 and 10 and assign them to the\n",
    "row and column variables."
   ]
  },
  {
   "cell_type": "markdown",
   "metadata": {
    "id": "jV-GzanzxyIX"
   },
   "source": [
    "5. Create a matric ``M`` using the function ``np.ones()``, with the ``row`` and ``column`` variables as\n",
    "inputs. The ``row`` variable should define the number of rows in M, while the\n",
    "``column`` variable should define the number of columns in ``M``."
   ]
  },
  {
   "cell_type": "code",
   "execution_count": null,
   "metadata": {
    "colab": {
     "base_uri": "https://localhost:8080/"
    },
    "id": "79xU0ptlxxYY",
    "outputId": "759731e4-a6d6-4d62-dfe8-b622a37cfc8d"
   },
   "outputs": [],
   "source": [
    "M = np.ones([nrows[0],ncolumns[0]]) # Must index to take the first value since it is an array\n",
    "print(M.shape)\n",
    "print(len(M))"
   ]
  },
  {
   "cell_type": "markdown",
   "metadata": {
    "id": "CmtE7AXV3C9f"
   },
   "source": [
    "6. Create a set of **for loops** that multiplies each entry in ``M`` by the product of its row and column position. For example, the entry in the 2nd row and 3rd column should be multiplied by (2*3). Remember that Python starts indexing at 0."
   ]
  },
  {
   "cell_type": "code",
   "execution_count": null,
   "metadata": {
    "colab": {
     "base_uri": "https://localhost:8080/"
    },
    "id": "2bUsInGX3cbQ",
    "outputId": "d240a795-42ec-48f9-a002-50f92d1b3028"
   },
   "outputs": [],
   "source": [
    "for i in range(nrows[0]):\n",
    "     for j in range(ncolumns[0]):\n",
    "       M[i,j]=M[i,j]*(j+1)*(i+1)\n",
    "\n",
    "print(M)"
   ]
  },
  {
   "cell_type": "markdown",
   "metadata": {
    "id": "Y4c3eBxt-qfL"
   },
   "source": [
    "### **Question 1:**\n",
    "\n",
    "> ***a.*** *What is the difference between the output of the length and shape functions? Describe in words and output the values in a cell*"
   ]
  },
  {
   "cell_type": "markdown",
   "metadata": {
    "id": "5ngK9BbkA3Hq"
   },
   "source": [
    "Describe in words here:"
   ]
  },
  {
   "cell_type": "code",
   "execution_count": null,
   "metadata": {
    "id": "wf85p5imXwUl"
   },
   "outputs": [],
   "source": [
    "# Answer here"
   ]
  },
  {
   "cell_type": "markdown",
   "metadata": {
    "id": "3jSzQKAW16uW"
   },
   "source": [
    "## 2) **Earthquake Travel Times**\n",
    "\n",
    "Now we are going to practice writing a script to calculate the travel time curve of P and S waves from a shallow earthquake. The earthquake occurs 10 km underground and is recorded on 10 seismometers. The first seismometer is directly above the earthquake. The second seismometer is 5 km east of the first, the third is 5 km east from the second and so on. This setup is illustrated in the figure below. The P-wave velocity for the layer is 6 km/s, and the S-wave velocity is 4 km/s. "
   ]
  },
  {
   "cell_type": "markdown",
   "metadata": {
    "id": "rRFxbKqJDR6V"
   },
   "source": [
    "![alt text](source_stations.png)\n",
    "**Figure 1:** Source - Stations receiver geometries"
   ]
  },
  {
   "cell_type": "markdown",
   "metadata": {},
   "source": [
    "### **Question 2:**"
   ]
  },
  {
   "cell_type": "markdown",
   "metadata": {
    "id": "jTyoDEaQ4hT5"
   },
   "source": [
    "> ***a.*** *What is the distance between the earthquake and the third station? You will need to use trig to get this answer. You can help yourself by drawing a straight-line ray path on a paper-copy of this figure.*"
   ]
  },
  {
   "cell_type": "code",
   "execution_count": null,
   "metadata": {
    "id": "wcSfTJi4XeZe"
   },
   "outputs": [],
   "source": [
    "# Answer here"
   ]
  },
  {
   "cell_type": "markdown",
   "metadata": {
    "id": "XrHnimQS4sIW"
   },
   "source": [
    "You will now write a script to calculate and plot a travel-time curve for the seismic waves from this earthquake. Your script should do the following:\n",
    "\n",
    "* Define variables as follows: **x** is a vector containing the epicentral distance between the earthquake and each station; **h** is the source depth; **d** is a vector of source-station distances; **vp** and **vs** are the P- and S-wave speeds respectively; **tp** and **ts** for P- and S-wave travel times.\n",
    "\n",
    "* Calculate the travel times based on the distances and velocities.\n",
    "\n",
    "* Plot the travel time curves. The x axis will be the epicentral distance in km, which is defined to be the horizontal distance between the epicenter (point at surface directly above the source) and the station. The y axis will be the travel time (s) of the wave to each station. Plot both P- and S-waves on the same figure but with different colors. Include a title and axis labels on your figure. Add a legend to the top right corner of the plot.\n",
    " \n",
    "* Comment your code. This greatly helps anyone else reading your code figure out what you mean to do in each line.\n",
    "\n",
    "\n",
    "> ***b*** *Type the script below.*"
   ]
  },
  {
   "cell_type": "code",
   "execution_count": null,
   "metadata": {
    "id": "IwhTl0GzC6eQ"
   },
   "outputs": [],
   "source": [
    "# Answer here"
   ]
  },
  {
   "cell_type": "markdown",
   "metadata": {
    "id": "pfaLVAUSDPSS"
   },
   "source": [
    "# **2) Seismic Wave Ray Tracing**\n",
    "\n",
    "\n",
    "P and S waves travel all over the world by traveling through the Earth. Because of changes\n",
    "in seismic velocity and boundaries between different layers, the ray paths can be\n",
    "complicated. In addition, when looking at ray paths on larger scales, we have to take into\n",
    "account the fact that the Earth is round(ish). \n",
    "\n",
    "![alt text](prem.png)\n",
    "**Figure 2:** From Shearer, \"Introduction to seismology\" (2009), PREM velocity and density model.\n",
    "\n",
    "We will use Ray Tracing from the open-source software Python Obspy (https://docs.obspy.org/). Obspy provides plenty of useful built-in functions that have been validated by the community."
   ]
  },
  {
   "cell_type": "code",
   "execution_count": null,
   "metadata": {
    "id": "L33USRtN4Oar"
   },
   "outputs": [],
   "source": [
    "import obspy"
   ]
  },
  {
   "cell_type": "markdown",
   "metadata": {},
   "source": [
    "First, we reproduce the results from the previous exercise"
   ]
  },
  {
   "cell_type": "code",
   "execution_count": null,
   "metadata": {},
   "outputs": [],
   "source": [
    "from obspy.taup import plot_travel_times\n",
    "import matplotlib.pyplot as plt\n",
    "\n",
    "fig, ax = plt.subplots()\n",
    "ax = plot_travel_times(source_depth=10, ax=ax, fig=fig, model='iasp91',\n",
    "                       phase_list=['P','S'], npoints=200)"
   ]
  },
  {
   "cell_type": "markdown",
   "metadata": {},
   "source": [
    "Angular distances in degrees are the angle (in degrees) from the source, to the receiver, with the point of reference located in the center of the Earth. 90$^\\circ$ angular distance is a quarter of the Earth circumference away from the source."
   ]
  },
  {
   "cell_type": "markdown",
   "metadata": {},
   "source": [
    "You will now see the ray paths for the P, S, PKP (P wave in the\n",
    "outer core), and ScS (S wave reflected off the core-mantle boundary) phases (Figure 2) as well as a travel time curve for all four phases."
   ]
  },
  {
   "cell_type": "code",
   "execution_count": null,
   "metadata": {},
   "outputs": [],
   "source": [
    "from obspy.taup.tau import plot_ray_paths\n",
    "from obspy.taup import TauPyModel\n",
    "\n",
    "\n",
    "model = TauPyModel(model='iasp91')\n",
    "fig, ax = plt.subplots(subplot_kw=dict(polar=True)) # this declares the figure variables\n",
    "fig.set_size_inches(18,10) # this sets the size of the figure\n",
    "ax = plot_ray_paths(source_depth=100, ax=ax, fig=fig, phase_list=['P','S', 'PKP','ScS'], \n",
    "                    npoints=25,show=False,legend=True) # this is a built-in function to plot the rays\n",
    "ax.set_title('Ray tracing in a spherical Earth') # this will add a title\n",
    "# these lines will add text on the plot\n",
    "ax.text(0, 0, 'Solid\\ninner\\ncore',\n",
    "        horizontalalignment='center', verticalalignment='center',\n",
    "        bbox=dict(facecolor='white', edgecolor='none', alpha=0.7))\n",
    "ocr = (model.model.radius_of_planet -\n",
    "       (model.model.s_mod.v_mod.iocb_depth +\n",
    "        model.model.s_mod.v_mod.cmb_depth) / 2)\n",
    "ax.text(np.deg2rad(180), ocr, 'Fluid outer core',\n",
    "        horizontalalignment='center',\n",
    "        bbox=dict(facecolor='white', edgecolor='none', alpha=0.7))\n",
    "mr = model.model.radius_of_planet - model.model.s_mod.v_mod.cmb_depth / 2\n",
    "ax.text(np.deg2rad(180), mr, 'Solid mantle',\n",
    "        horizontalalignment='center',\n",
    "        bbox=dict(facecolor='white', edgecolor='none', alpha=0.7))\n",
    "\n"
   ]
  },
  {
   "cell_type": "markdown",
   "metadata": {},
   "source": [
    "### **Question 3:**\n",
    "\n",
    "> ***a.*** *Why aren't there any S waves in the outer core?*"
   ]
  },
  {
   "cell_type": "markdown",
   "metadata": {},
   "source": [
    "answer text here"
   ]
  },
  {
   "cell_type": "markdown",
   "metadata": {},
   "source": [
    "> ***b.*** *Notice that within the mantle (the first thick layer), the ray paths of both\n",
    "the P and S waves are curved. What causes this curvature? Think about\n",
    "what happens to the seismic velocity with increasing depth and the cause\n",
    "of this phenomenon. Remember seismic velocity depends on more than\n",
    "just density*"
   ]
  },
  {
   "cell_type": "markdown",
   "metadata": {},
   "source": [
    "answer text below"
   ]
  },
  {
   "cell_type": "markdown",
   "metadata": {},
   "source": [
    "> ***c.*** *What direction do the P-waves bend as they enter the outer core? What\n",
    "does this say about the P-wave velocity in the outer core vs. the mantle?*"
   ]
  },
  {
   "cell_type": "markdown",
   "metadata": {},
   "source": [
    "answer text below"
   ]
  },
  {
   "cell_type": "markdown",
   "metadata": {},
   "source": [
    "**Triplications in the crust**\n",
    "\n",
    "Below we will see why once we can detect several P waves. We calculate the ray paths and travel time at really short distances, for an earthquake a source depth of 5km and a distance of about 111 km (1$^\\circ$ of angular distances)."
   ]
  },
  {
   "cell_type": "code",
   "execution_count": null,
   "metadata": {},
   "outputs": [],
   "source": [
    "model = TauPyModel(model='prem')\n",
    "\n",
    "# plot the travel-time curves\n",
    "fig,ax  = plt.subplots()\n",
    "fig.set_size_inches(10,6)\n",
    "ax = plot_travel_times(source_depth=5, ax=ax, fig=fig, model='prem',\n",
    "                       phase_list=['P'], npoints=200,max_degrees=1.5,min_degrees=0)\n",
    "ax.grid(True)\n",
    "ax.set_title('Travel-time curves')\n",
    "print('')\n",
    "\n",
    "\n",
    "# plot the ray paths in cartesian coordinates.\n",
    "arrivals = model.get_ray_paths(5, 1, phase_list=['P'])\n",
    "arrivals.plot_rays(plot_type='cartesian', phase_list=['P'],\n",
    "                   plot_all=False, legend=True)"
   ]
  },
  {
   "cell_type": "markdown",
   "metadata": {},
   "source": [
    "### Question 4: \n",
    "> *What are the 3 different P wave phases that cause the triplication?*\n",
    "\n",
    "You don’t need to know the specific notation (e.g. PKP), but you should be able to\n",
    "explain what they are based on what you have been learning in class as well as\n",
    "what material they are traveling through. Look at the depth of the plot, and be\n",
    "specific."
   ]
  },
  {
   "cell_type": "markdown",
   "metadata": {},
   "source": [
    "answer here"
   ]
  },
  {
   "cell_type": "code",
   "execution_count": null,
   "metadata": {},
   "outputs": [],
   "source": []
  }
 ],
 "metadata": {
  "colab": {
   "collapsed_sections": [],
   "name": "Lab 2.ipynb",
   "provenance": []
  },
  "kernelspec": {
   "display_name": "Python 3 (ipykernel)",
   "language": "python",
   "name": "python3"
  },
  "language_info": {
   "codemirror_mode": {
    "name": "ipython",
    "version": 3
   },
   "file_extension": ".py",
   "mimetype": "text/x-python",
   "name": "python",
   "nbconvert_exporter": "python",
   "pygments_lexer": "ipython3",
   "version": "3.8.12"
  }
 },
 "nbformat": 4,
 "nbformat_minor": 1
}
